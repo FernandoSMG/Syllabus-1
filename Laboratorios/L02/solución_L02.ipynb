{
 "cells": [
  {
   "cell_type": "code",
   "execution_count": null,
   "metadata": {
    "colab": {},
    "colab_type": "code",
    "id": "pBWmwsiKOuXP"
   },
   "outputs": [],
   "source": [
    "#Problema 1a (Recursivo)\n",
    "def isSafe(mapa, i, j, target):\n",
    "    return i >= 0 and i < len(mapa) and j >= 0 and j < len(mapa[0]) and mapa[i][j] == target\n",
    "\n",
    "def superficie_de_nivel(mapa, celda):\n",
    "    moves = [(-1, -1), (-1, 0), (-1, 1), (0, -1), (0, 1), (1, -1), (1, 0), (1, 1)]\n",
    "    i = celda[0]\n",
    "    j = celda[1]\n",
    "    resp = []\n",
    "    targetValue = mapa[i][j]\n",
    "    resp.append((i,j))\n",
    "    for k in range(0,len(moves)):\n",
    "        if isSafe(mapa, i + moves[k][0], j + moves[k][1], targetValue):\n",
    "            mapa[i][j] = -1\n",
    "            resp += superficie_de_nivel(mapa, (i + moves[k][0], j + moves[k][1]))\n",
    "    return resp"
   ]
  },
  {
   "cell_type": "code",
   "execution_count": null,
   "metadata": {
    "colab": {},
    "colab_type": "code",
    "id": "hUOKeiCMYIxA"
   },
   "outputs": [],
   "source": [
    "#Problema 1a (Iterativo)\n",
    "def isSafe(mapa, i, j, target, reviewed):\n",
    "    return i >= 0 and i < len(mapa) and j >= 0 and j < len(mapa[0]) and mapa[i][j] == target and not (i,j) in reviewed \n",
    "\n",
    "def superficie_de_nivel(mapa, celda):\n",
    "    moves = [(-1, -1), (-1, 0), (-1, 1), (0, -1), (0, 1), (1, -1), (1, 0), (1, 1)]\n",
    "    value = mapa[celda[0]][celda[1]]\n",
    "    cellsToVisit = [celda]\n",
    "    revisados = set()\n",
    "    nivel = {celda}\n",
    "    while len(cellsToVisit) > 0:\n",
    "        c = cellsToVisit[0]\n",
    "        for k in range(0,len(moves)):\n",
    "            if isSafe(mapa, c[0] + moves[k][0], c[1] + moves[k][1], value, nivel):\n",
    "                nivel.add((c[0] + moves[k][0], c[1] + moves[k][1]))\n",
    "                cellsToVisit.append((c[0] + moves[k][0], c[1] + moves[k][1]))\n",
    "        cellsToVisit.pop(0)\n",
    "    resp = list(nivel)\n",
    "    resp.sort()\n",
    "    return resp"
   ]
  },
  {
   "cell_type": "code",
   "execution_count": null,
   "metadata": {
    "colab": {},
    "colab_type": "code",
    "id": "nJ3H1zCqLtLy"
   },
   "outputs": [],
   "source": [
    "#Problema 1b\n",
    " def normalizer(char):\n",
    "     char = char.lower()\n",
    "     eq = {'á':'a', 'é':'e', 'í':'i', 'ó':'o', 'ú':'u', 'ü':'u'}\n",
    "     if char in 'áéíóúü':\n",
    "         char = eq[char]\n",
    "     return char\n",
    "\n",
    "def count_char(string):\n",
    "    freqS = {}\n",
    "    for l in string:\n",
    "        l = normalizer(l)\n",
    "        if not l in freqS:\n",
    "            freqS[l] = 1\n",
    "        else:\n",
    "            freqS[l] += 1\n",
    "    return freqS\n",
    "\n",
    "def son_anagramas(string1, string2):\n",
    "    if len(string1) != len(string2):\n",
    "        return False\n",
    "    f1 = count_char(string1)\n",
    "    f2 = count_char(string2)\n",
    "    return f1 == f2"
   ]
  },
  {
   "cell_type": "code",
   "execution_count": null,
   "metadata": {
    "colab": {},
    "colab_type": "code",
    "id": "CvNyW9Y3LtQg"
   },
   "outputs": [],
   "source": [
    "#Problema 2a\n",
    "def muro_nuevo(muro):\n",
    "    n = len(muro)\n",
    "    end_index = 0\n",
    "    max_len = 0\n",
    "    i = 0\n",
    "    while (i + 1 < n):\n",
    "        lng = 1\n",
    "        while (i + 1 < n) and (muro[i] < muro[i + 1]):\n",
    "            i+=1\n",
    "            lng+=1\n",
    "        while (i + 1 < n) and (muro[i] > muro[i + 1]):\n",
    "            i+=1\n",
    "            lng+=1\n",
    "        if (lng > max_len):\n",
    "            max_len = lng\n",
    "            end_index = i\n",
    "        i+=1\n",
    "    return muro[end_index - max_len + 1:end_index+1]"
   ]
  },
  {
   "cell_type": "code",
   "execution_count": null,
   "metadata": {
    "colab": {
     "base_uri": "https://localhost:8080/",
     "height": 34
    },
    "colab_type": "code",
    "id": "A45WsJj9n7Kl",
    "outputId": "6462f0b1-3b8c-4d60-f9ef-606a0d2b2c6c"
   },
   "outputs": [
    {
     "data": {
      "text/plain": [
       "[1]"
      ]
     },
     "execution_count": 50,
     "metadata": {
      "tags": []
     },
     "output_type": "execute_result"
    }
   ],
   "source": [
    "muro_nuevo([1,1,1,1,1])"
   ]
  },
  {
   "cell_type": "code",
   "execution_count": null,
   "metadata": {
    "colab": {},
    "colab_type": "code",
    "id": "LL4jo7npUiBy"
   },
   "outputs": [],
   "source": [
    "#Problema 2b\n",
    "from collections import deque\n",
    "\n",
    "class Edge:\n",
    "    def __init__(self, src, dst, wormhole = False):\n",
    "        self.src = src\n",
    "        self.dst = dst\n",
    "        self.wormhole = wormhole\n",
    "    \n",
    "    def __eq__(self, other):\n",
    "        return (self.src == other.src) and (self.dst == other.dst)\n",
    "    \n",
    "    def __hash__(self):\n",
    "        return hash((self.src, self.dst))\n",
    "\n",
    "class NodeH:\n",
    "    def __init__(self, id, min_dist):\n",
    "        self.id = id\n",
    "        self.min_dist = min_dist\n",
    "\n",
    "class Graph:\n",
    "    def __init__(self, edges, num_nodes):\n",
    "        self.adj_list = []\n",
    "        self.num_nodes = num_nodes\n",
    "        for i in range(0, num_nodes):\n",
    "            self.adj_list.append([])\n",
    "        for edge in edges:\n",
    "            self.adj_list[edge.src].append(edge)\n",
    "\n",
    "def recorrer_grafo(graph, src):\n",
    "    queue = deque()\n",
    "    discovered = [False]*graph.num_nodes\n",
    "    discovered[src] = True\n",
    "    node = NodeH(src, 0)\n",
    "    queue.append(node)\n",
    "    while len(queue) > 0:\n",
    "        node = queue.popleft()\n",
    "        if node.id == graph.num_nodes - 1:\n",
    "            return node.min_dist \n",
    "        for u in graph.adj_list[node.id]:\n",
    "            if not discovered[u.dst]:\n",
    "                discovered[u.dst] = True\n",
    "                if u.wormhole:\n",
    "                    new_min_dist = node.min_dist\n",
    "                else:\n",
    "                    new_min_dist = node.min_dist + 1\n",
    "                new_node = NodeH(u.dst, new_min_dist)\n",
    "                queue.append(new_node)\n",
    "\n",
    "\n",
    "def viajero_en_el_tiempo(agujeros_de_gusano, k, N):\n",
    "    edges = set()\n",
    "    for a in agujeros_de_gusano:\n",
    "        edges.add(Edge(a[0], a[1], True))\n",
    "    for i in range(0, N):\n",
    "        edges.add(Edge(i, i + 1))\n",
    "    g = Graph(list(edges), N + 1)\n",
    "    return recorrer_grafo(g, 0)"
   ]
  },
  {
   "cell_type": "code",
   "execution_count": null,
   "metadata": {
    "colab": {},
    "colab_type": "code",
    "id": "5NstIm7-bp8q"
   },
   "outputs": [],
   "source": [
    "#Problema 3\n",
    "from collections import deque\n",
    "\n",
    "class Node:\n",
    "    def __init__(self, key):\n",
    "        self.key = key\n",
    "        self.children = [] #left to right\n",
    "\n",
    "def root_node(tower):\n",
    "    rootCandidates = {}\n",
    "    nodes = {}\n",
    "    for p in tower:\n",
    "        for i,n in enumerate(p):\n",
    "            if not n in nodes:\n",
    "                nodeAux = Node(n)\n",
    "                nodes.update({n: nodeAux})\n",
    "                rootCandidates.update(nodes[n])\n",
    "            if i > 0:\n",
    "                nodes[p[0]].children.append(nodeAux)\n",
    "                del rootCandidates[n]\n",
    "    key = list(rootCandidates)[0]\n",
    "    return nodes[key]\n",
    "\n",
    "def vista_desde_pileta(torre):\n",
    "    root = root_node(torre)\n",
    "    view = []\n",
    "    if root == None:\n",
    "        return None\n",
    "    queue = deque()\n",
    "    queue.append(root)\n",
    "    currentNode = None\n",
    "    while len(queue)>0:\n",
    "        nodesInLevel = len(queue)\n",
    "        i = 0\n",
    "        while(i < nodesInLevel):\n",
    "            i+=1\n",
    "            currentNode = queue.popleft()\n",
    "            if i == 1:\n",
    "                view.append(currentNode.key)\n",
    "            if len(currentNode.children) > 0:\n",
    "                for n in currentNode.children:\n",
    "                    queue.append(n)\n",
    "    return view"
   ]
  },
  {
   "cell_type": "code",
   "execution_count": null,
   "metadata": {
    "colab": {},
    "colab_type": "code",
    "id": "b3Ox4y8HH2NV"
   },
   "outputs": [],
   "source": [
    "from collections import deque\n",
    "\n",
    "class Node:\n",
    "    def __init__(self, key):\n",
    "        self.key = key\n",
    "        self.children = [] #left to right\n",
    "\n",
    "def root_node(tower):\n",
    "    rootCandidates = {}\n",
    "    nodes = {}\n",
    "    for p in tower:\n",
    "        for i,n in enumerate(p):\n",
    "            if not n in nodes:\n",
    "                nodeAux = Node(n)\n",
    "                nodes.update({n: nodeAux})\n",
    "                rootCandidates.update({n: nodeAux})\n",
    "            if i > 0:\n",
    "                nodes[p[0]].children.append(nodeAux)\n",
    "                del rootCandidates[n]\n",
    "    key = list(rootCandidates)[0]\n",
    "    return nodes[key]"
   ]
  },
  {
   "cell_type": "code",
   "execution_count": null,
   "metadata": {
    "colab": {},
    "colab_type": "code",
    "id": "9Sch05UxW57W"
   },
   "outputs": [],
   "source": [
    "#Inputs prueba\n",
    "mapa = [[1,1,1,1],[1,2,4,4],[1,1,5,7]]\n",
    "celda = (1,0)\n",
    "\n",
    "string1 = 'solución'\n",
    "string2 = 'oclusión'\n",
    "\n",
    "agujeros_de_gusano = [(1,7),(5,2),(8,0)]\n",
    "k = 3\n",
    "N = 9\n",
    "\n",
    "muro = [3, 5, 8, 4, 5, 9, 10, 8, 5, 3, 5]\n",
    "\n",
    "mapa_torre = [(1, 2, 3, 4), (3, 5, 6), (4, 7, 8, 9), (8, 10, 11, 12)]\n"
   ]
  },
  {
   "cell_type": "code",
   "execution_count": null,
   "metadata": {
    "colab": {},
    "colab_type": "code",
    "id": "EeXRELPOUmf1"
   },
   "outputs": [],
   "source": [
    "#Ejecuciones\n",
    "p1a = superficie_de_nivel(mapa, celda)\n",
    "p1b = son_anagramas(string1, string2)\n",
    "p2a = muro_nuevo(muro)\n",
    "p2b = viajero_en_el_tiempo(agujeros_de_gusano, k, N)\n",
    "p3 = vista_desde_pileta(mapa_torre)"
   ]
  },
  {
   "cell_type": "code",
   "execution_count": null,
   "metadata": {
    "colab": {
     "base_uri": "https://localhost:8080/",
     "height": 34
    },
    "colab_type": "code",
    "id": "a2KUNGNvmeve",
    "outputId": "9e00ef86-1b62-45fc-8a58-ebcf8222a460"
   },
   "outputs": [
    {
     "data": {
      "text/plain": [
       "[2, 4, 0]"
      ]
     },
     "execution_count": 40,
     "metadata": {
      "tags": []
     },
     "output_type": "execute_result"
    }
   ],
   "source": [
    "muro_nuevo(inputs_2a(5))"
   ]
  },
  {
   "cell_type": "markdown",
   "metadata": {
    "colab_type": "text",
    "id": "fTs1_xAxI4SW"
   },
   "source": [
    "# Tests"
   ]
  },
  {
   "cell_type": "code",
   "execution_count": null,
   "metadata": {
    "colab": {
     "base_uri": "https://localhost:8080/",
     "height": 34
    },
    "colab_type": "code",
    "id": "aD44nx-WuN3Y",
    "outputId": "15c3bef6-6f54-4cc0-8d13-6cf1feb35b95"
   },
   "outputs": [
    {
     "data": {
      "text/plain": [
       "[1, 2, 3, 4, 1, 2, 3, 4, 1, 2, 3, 4]"
      ]
     },
     "execution_count": 1,
     "metadata": {
      "tags": []
     },
     "output_type": "execute_result"
    }
   ],
   "source": [
    "[1,2,3,4]*3"
   ]
  },
  {
   "cell_type": "code",
   "execution_count": null,
   "metadata": {
    "colab": {},
    "colab_type": "code",
    "id": "jVL57r9xiKyM"
   },
   "outputs": [],
   "source": [
    "import random\n",
    "import time"
   ]
  },
  {
   "cell_type": "code",
   "execution_count": null,
   "metadata": {
    "colab": {},
    "colab_type": "code",
    "id": "sYlAOreeVlGf"
   },
   "outputs": [],
   "source": [
    "def inputs_1a(size):\n",
    "    mapa = []\n",
    "    for i in range(size):\n",
    "        mapa.append([int(random.uniform(1,min((10000,size))+1)) for _ in range(int(size/100))]*100)\n",
    "    celda = (random.randint(0,len(mapa)-1),random.randint(0,len(mapa[0])-1))\n",
    "    return (mapa, celda)"
   ]
  },
  {
   "cell_type": "code",
   "execution_count": null,
   "metadata": {
    "colab": {},
    "colab_type": "code",
    "id": "NJFnLsL1VtvO"
   },
   "outputs": [],
   "source": [
    "def inputs_1b(size):\n",
    "    letters = 'abcdefghijklmnopqrstuvwxyz'\n",
    "    string1 = ''\n",
    "    string2 = ''\n",
    "    for i in range(size):\n",
    "        n = random.randint(0,len(letters)-1)\n",
    "        m = random.randint(0,len(letters)-1)\n",
    "        string1 += letters[n]\n",
    "        string2 += letters[m]\n",
    "    return string1, string2"
   ]
  },
  {
   "cell_type": "code",
   "execution_count": null,
   "metadata": {
    "colab": {},
    "colab_type": "code",
    "id": "OaR7Aj3aVt2b"
   },
   "outputs": [],
   "source": [
    "def inputs_2a(size):\n",
    "    muro = [int(random.uniform(1,min(100,size)+1)) for _ in range(size)]\n",
    "    return muro"
   ]
  },
  {
   "cell_type": "code",
   "execution_count": null,
   "metadata": {
    "colab": {},
    "colab_type": "code",
    "id": "qs4ugzr3VzWQ"
   },
   "outputs": [],
   "source": [
    "def inputs_2b(size):\n",
    "    N = size\n",
    "    k = 6\n",
    "    nHoles = int(size/4)\n",
    "    agujeros_de_gusano = []\n",
    "    for i in range(nHoles):\n",
    "        agujeros_de_gusano.append((random.randint(1,N-2),random.randint(2,N-1)))\n",
    "    return agujeros_de_gusano, k, N"
   ]
  },
  {
   "cell_type": "code",
   "execution_count": null,
   "metadata": {
    "colab": {},
    "colab_type": "code",
    "id": "6gGSfasxoMMM"
   },
   "outputs": [],
   "source": [
    "def inputs_3(size):\n",
    "    tower = []\n",
    "    nHabs = random.randint(1,100)\n",
    "    hab0 = tuple(range(1,nHabs))\n",
    "    tower.append(hab0)\n",
    "    fromN = nHabs\n",
    "    habsToUse = list(hab0[1:])\n",
    "    for i in range(size):\n",
    "        pickUpRoom = random.randint(1,len(habsToUse)-1)\n",
    "        nHabs = random.randint(2,100)\n",
    "        habN = [habsToUse[pickUpRoom]] + list(range(fromN,fromN+nHabs))\n",
    "        tower.append(tuple(habN))\n",
    "        habsToUse = habsToUse[pickUpRoom+1:]\n",
    "        #habsToUse.pop(pickUpRoom)\n",
    "        habsToUse += list(range(fromN,fromN+nHabs))\n",
    "        fromN = fromN+nHabs\n",
    "    return tower"
   ]
  },
  {
   "cell_type": "code",
   "execution_count": null,
   "metadata": {
    "colab": {
     "base_uri": "https://localhost:8080/",
     "height": 68
    },
    "colab_type": "code",
    "id": "6Qua5yIlWBo9",
    "outputId": "b3bf59e6-b8ae-46b6-d2ab-405ebe031482"
   },
   "outputs": [
    {
     "name": "stdout",
     "output_type": "stream",
     "text": [
      "inp created\n",
      "solved\n",
      "0.0004994869232177734\n"
     ]
    }
   ],
   "source": [
    "#PROBLEMA 1A\n",
    "total_time = 0\n",
    "runs = 1\n",
    "size = 10000\n",
    "for k in range(runs):\n",
    "    inp = inputs_1a(size)\n",
    "    print('inp created')\n",
    "    start = time.time()\n",
    "    superficie_de_nivel(inp[0], inp[1])\n",
    "    print('solved')\n",
    "    end = time.time()\n",
    "    total_time += end-start \n",
    "print(total_time/runs)"
   ]
  },
  {
   "cell_type": "code",
   "execution_count": null,
   "metadata": {
    "colab": {
     "base_uri": "https://localhost:8080/",
     "height": 34
    },
    "colab_type": "code",
    "id": "dgv8JgZSWBxL",
    "outputId": "69482e7b-1f28-47a1-fcf5-3ad74b85e672"
   },
   "outputs": [
    {
     "name": "stdout",
     "output_type": "stream",
     "text": [
      "1.001208734512329\n"
     ]
    }
   ],
   "source": [
    "#PROBLEMA 1B\n",
    "total_time = 0\n",
    "runs = 5\n",
    "size = 1000000\n",
    "for k in range(runs):\n",
    "    inp = inputs_1b(size)\n",
    "    start = time.time()\n",
    "    son_anagramas(inp[0], inp[1])\n",
    "    end = time.time()\n",
    "    total_time += end-start \n",
    "print(total_time/runs)"
   ]
  },
  {
   "cell_type": "code",
   "execution_count": null,
   "metadata": {
    "colab": {
     "base_uri": "https://localhost:8080/",
     "height": 34
    },
    "colab_type": "code",
    "id": "QVpu29JCWBz0",
    "outputId": "db75ce40-a331-4ec3-8d72-c6e4d06c780d"
   },
   "outputs": [
    {
     "name": "stdout",
     "output_type": "stream",
     "text": [
      "0.7289474487304688\n"
     ]
    }
   ],
   "source": [
    "#PROBLEMA 2a\n",
    "total_time = 0\n",
    "runs = 5\n",
    "size = 3000000\n",
    "for k in range(runs):\n",
    "    inp = inputs_2a(size)\n",
    "    start = time.time()\n",
    "    a=muro_nuevo(inp)\n",
    "    end = time.time()\n",
    "    total_time += end-start \n",
    "print(total_time/runs)"
   ]
  },
  {
   "cell_type": "code",
   "execution_count": null,
   "metadata": {
    "colab": {
     "base_uri": "https://localhost:8080/",
     "height": 34
    },
    "colab_type": "code",
    "id": "pV2wk9iEWB2Q",
    "outputId": "44c49028-a731-4a50-b9ae-4e5adbde1788"
   },
   "outputs": [
    {
     "name": "stdout",
     "output_type": "stream",
     "text": [
      "0.7500082969665527\n"
     ]
    }
   ],
   "source": [
    "#PROBLEMA 2b\n",
    "total_time = 0\n",
    "runs = 5\n",
    "size = 100000\n",
    "for k in range(runs):\n",
    "    inp = inputs_2b(size)\n",
    "    start = time.time()\n",
    "    viajero_en_el_tiempo(inp[0],inp[1],inp[2])\n",
    "    end = time.time()\n",
    "    total_time += end-start \n",
    "print(total_time/runs)"
   ]
  },
  {
   "cell_type": "code",
   "execution_count": null,
   "metadata": {
    "colab": {
     "base_uri": "https://localhost:8080/",
     "height": 34
    },
    "colab_type": "code",
    "id": "Zg_efAAmWhXM",
    "outputId": "5a0afd93-a303-449d-be83-593f48e5f18b"
   },
   "outputs": [
    {
     "name": "stdout",
     "output_type": "stream",
     "text": [
      "0.7953557252883912\n"
     ]
    }
   ],
   "source": [
    "#PROBLEMA 3\n",
    "total_time = 0\n",
    "runs = 10\n",
    "size = 5000\n",
    "for k in range(runs):\n",
    "    inp = inputs_3(size)\n",
    "    start = time.time()\n",
    "    vista_desde_pileta(inp)\n",
    "    end = time.time()\n",
    "    total_time += end-start \n",
    "print(total_time/runs)"
   ]
  }
 ],
 "metadata": {
  "colab": {
   "collapsed_sections": [],
   "machine_shape": "hm",
   "name": "SolucionesL02.ipynb",
   "provenance": []
  },
  "kernelspec": {
   "display_name": "Python 3",
   "language": "python",
   "name": "python3"
  },
  "language_info": {
   "codemirror_mode": {
    "name": "ipython",
    "version": 3
   },
   "file_extension": ".py",
   "mimetype": "text/x-python",
   "name": "python",
   "nbconvert_exporter": "python",
   "pygments_lexer": "ipython3",
   "version": "3.7.3"
  }
 },
 "nbformat": 4,
 "nbformat_minor": 2
}
