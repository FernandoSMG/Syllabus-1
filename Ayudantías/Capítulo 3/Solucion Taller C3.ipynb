{
 "cells": [
  {
   "cell_type": "markdown",
   "metadata": {},
   "source": [
    "# Solución Taller Capítulo 3\n",
    "\n",
    "## Problema 1\n",
    "\n",
    "Dada una lista de números enteros (tanto positivos, como negativos), encuentre todos los elementos de la lista que realizan una partición de esta en dos grupos de igual suma. Se pide retornar el índice de los números que cumplen la condición. Por ejemplo, si la lista fuese [3,4,2,1] la respuesta debiese ser [1], dado que el el número 4 divide a la lista en [3] y [2,1] que suman lo mismo.\n",
    "\n",
    "#### Código:\n",
    "\n",
    "```python\n",
    "def division_lista(lista):\n",
    "    # Solucion del problema\n",
    "        \n",
    "lista = [0,-4,6,-4,-3,3,2,0]\n",
    "indices = division_lista(lista)\n",
    "print(indices)\n",
    "```\n",
    "\n",
    "#### Salida:\n",
    "\n",
    "\n",
    "    [0,3,7]\n",
    "\n",
    "**(a)** Resuelva el problema utilizando completamente fuerza bruta, es decir, analice todos los casos para entregar su respuesta y no use ninguna lógica que le ahorre tiempo de resolución. ¿De qué orden es la solución construida?"
   ]
  },
  {
   "cell_type": "code",
   "execution_count": 11,
   "metadata": {},
   "outputs": [],
   "source": [
    "# Parte A\n",
    "def division_lista_a(lista):\n",
    "    res = []\n",
    "    n = len(lista)\n",
    "    for i in range(n):\n",
    "        if sum(lista[0:i]) == sum(lista[i+1:n]):\n",
    "            res.append(i)\n",
    "    return res"
   ]
  },
  {
   "cell_type": "code",
   "execution_count": 12,
   "metadata": {},
   "outputs": [
    {
     "name": "stdout",
     "output_type": "stream",
     "text": [
      "[0, 3, 7]\n"
     ]
    }
   ],
   "source": [
    "lista = [0,-4,6,-4,-3,3,2,0]\n",
    "indices = division_lista_a(lista)\n",
    "print(indices)"
   ]
  },
  {
   "cell_type": "markdown",
   "metadata": {},
   "source": [
    "   **R:** Solución de orden $O(n^2)$"
   ]
  },
  {
   "cell_type": "markdown",
   "metadata": {},
   "source": [
    "**(b)** Resuelva el mismo problema pero ahora debe reducir el orden de solución. Es decir, trate de optimizar el tiempo de solución de la parte (a). ¿De qué orden es la solución construida?"
   ]
  },
  {
   "cell_type": "code",
   "execution_count": 13,
   "metadata": {},
   "outputs": [],
   "source": [
    "# Parte B\n",
    "def division_lista_b(lista):\n",
    "    res = []\n",
    "    n = len(lista)\n",
    "\n",
    "    left = []\n",
    "    left.append(0)\n",
    "    for i in range(1,n):\n",
    "        left.append(left[i - 1] + lista[i - 1])\n",
    "\n",
    "    right = 0\n",
    "    for i in reversed(range(n)):\n",
    "        if(left[i] == right):\n",
    "            res.append(i)\n",
    "        \n",
    "        right += lista[i]\n",
    "        \n",
    "    return res"
   ]
  },
  {
   "cell_type": "code",
   "execution_count": 14,
   "metadata": {},
   "outputs": [
    {
     "name": "stdout",
     "output_type": "stream",
     "text": [
      "[7, 3, 0]\n"
     ]
    }
   ],
   "source": [
    "lista = [0,-4,6,-4,-3,3,2,0]\n",
    "indices = division_lista_b(lista)\n",
    "print(indices)"
   ]
  },
  {
   "cell_type": "markdown",
   "metadata": {},
   "source": [
    "   **R:** Solución de orden $O(n)$"
   ]
  },
  {
   "cell_type": "markdown",
   "metadata": {},
   "source": [
    "**(c)** Construya dos gráficos *tamaño de input vs tiempo de ejecución* para las soluciones de las parte (a) y (b). ¿Qué observa?"
   ]
  },
  {
   "cell_type": "code",
   "execution_count": 15,
   "metadata": {},
   "outputs": [
    {
     "data": {
      "image/png": "[encoded data removed]",
      "text/plain": [
       "<Figure size 720x360 with 1 Axes>"
      ]
     },
     "metadata": {
      "needs_background": "light"
     },
     "output_type": "display_data"
    }
   ],
   "source": [
    "import time, random, math\n",
    "import matplotlib.pyplot as plt\n",
    "\n",
    "#Funcion para crear inputs\n",
    "def inputs(size):\n",
    "    l = [int(random.uniform(-min((10000,size))+1,min((10000,size))+1)) for _ in range(size)]\n",
    "    return l\n",
    "\n",
    "\n",
    "sizes = [10*x for x in range(1,101)]\n",
    "times_a = []\n",
    "times_b = []\n",
    "\n",
    "total_time_a = 0\n",
    "total_time_b = 0\n",
    "runs_per_size = 1\n",
    "for size in sizes:\n",
    "    for _ in range(runs_per_size):\n",
    "        \n",
    "        #Creamos un input\n",
    "        lista = inputs(size)\n",
    "        \n",
    "        #Ejecutamos el A\n",
    "        start = time.time()\n",
    "        division_lista_a(lista)\n",
    "        end = time.time()\n",
    "        total_time_a += end-start \n",
    "        \n",
    "        #Ejecutamos el B\n",
    "        start = time.time()\n",
    "        division_lista_b(lista)\n",
    "        end = time.time()\n",
    "        total_time_b += end-start \n",
    "        \n",
    "    times_a.append(total_time_a/runs_per_size)\n",
    "    times_b.append(total_time_b/runs_per_size)\n",
    "\n",
    "plt.figure(figsize=(10,5))\n",
    "plt.plot(sizes, times_a, 'r', label = 'Fuerza bruta')  \n",
    "plt.plot(sizes, times_b, 'b', label = 'Optimizada')\n",
    "plt.title('Fuerza bruta vs Optimizada', size = 20)\n",
    "plt.xlabel('Tamaño del input', size = 15)\n",
    "plt.ylabel('Tiempo [s]', size = 15)\n",
    "plt.legend()\n",
    "plt.show()"
   ]
  },
  {
   "cell_type": "markdown",
   "metadata": {},
   "source": [
    "## Problema 2\n",
    "\n",
    "Escriba un programa que cuente las formas en que se puede obtener un número objetivo entero mayor que cero a partir de elementos pertenecientes a una lista de números (sin repetirlos). Para ello, solo puede utilizar números de adición (+) o substracción (-). Por ejemplo, la cantidad de veces que se puede formar el número 6 con la lista [5, 3, -6, 2] es 4. Estas serían:\n",
    "\n",
    "- -(-6) = 6\n",
    "- +(5)+(3)-(2) = 6\n",
    "- +(5)-(3)-(-6)-(2) = 6\n",
    "- -(5)+(3)-(-6)+(2) = 6\n",
    "\n",
    "#### Código:\n",
    "\n",
    "```python\n",
    "def numeros(lista, objetivo):\n",
    "    # Solucion del problema\n",
    "\n",
    "lista = [8, -2, 1, -3, 5]\n",
    "objetivo = 5;\n",
    "conteo = numeros(lista, objetivo)\n",
    "print(conteo)\n",
    "```\n",
    "\n",
    "#### Salida:\n",
    "\n",
    "\n",
    "    7"
   ]
  },
  {
   "cell_type": "code",
   "execution_count": 16,
   "metadata": {},
   "outputs": [],
   "source": [
    "def conteo(arr, n, target):\n",
    " \n",
    "    includeMinus = 0\n",
    "    includePlus = 0\n",
    "    \n",
    "    if target == 0:\n",
    "        return 1\n",
    "        \n",
    "    if n < 0:\n",
    "        return 0\n",
    "        \n",
    "    exclude = conteo(arr, n - 1, target)\n",
    "    includeMinus  = conteo(arr, n - 1, target - arr[n])\n",
    "    includePlus  = conteo(arr, n - 1, target + arr[n])\n",
    "    \n",
    "    return exclude + includePlus + includeMinus\n",
    " \n",
    "def numeros(arr, target):\n",
    "    if target <= 0:\n",
    "        return False\n",
    "    else:\n",
    "        return conteo(arr, len(arr)-1, target)"
   ]
  },
  {
   "cell_type": "code",
   "execution_count": 10,
   "metadata": {},
   "outputs": [
    {
     "name": "stdout",
     "output_type": "stream",
     "text": [
      "7\n"
     ]
    }
   ],
   "source": [
    "lista = [8, -2, 1, -3, 5]\n",
    "objetivo = 5;\n",
    "conteo = numeros(lista, objetivo)\n",
    "print(conteo)"
   ]
  }
 ],
 "metadata": {
  "kernelspec": {
   "display_name": "Python 3",
   "language": "python",
   "name": "python3"
  },
  "language_info": {
   "codemirror_mode": {
    "name": "ipython",
    "version": 3
   },
   "file_extension": ".py",
   "mimetype": "text/x-python",
   "name": "python",
   "nbconvert_exporter": "python",
   "pygments_lexer": "ipython3",
   "version": "3.7.6"
  }
 },
 "nbformat": 4,
 "nbformat_minor": 4
}
