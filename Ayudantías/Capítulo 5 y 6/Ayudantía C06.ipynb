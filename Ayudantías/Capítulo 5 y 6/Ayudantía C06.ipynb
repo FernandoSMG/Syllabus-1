{
 "cells": [
  {
   "cell_type": "markdown",
   "metadata": {},
   "source": [
    "# Ayudantía C06 - Geopandas"
   ]
  },
  {
   "cell_type": "markdown",
   "metadata": {},
   "source": [
    "Esta ayudantía está basada en el laboratorio correspondiente del semestre 2019-1, el material de clases, y trabajos entregados. Trabajaremos con un archivo de emisiones GPS de cada recorrido del Transantiago, y shapes de sus paraderos y de las comunas de Santiago. Los archivos shape pueden ser de tres tipos: punto, línea, o polígono, y contienen información que se escribe en cinco archivos distintos. \n",
    "\n",
    "Veamos cómo se ven el shape de comunas de Santiago en un Geodataframe. Observemos que tiene una columna de geometría, que nos dice qué tipo de shape es, con su información correspondiente."
   ]
  },
  {
   "cell_type": "code",
   "execution_count": null,
   "metadata": {},
   "outputs": [],
   "source": [
    "import pandas as pd\n",
    "import geopandas as gpd\n",
    "import shapely.geometry as shapely"
   ]
  },
  {
   "cell_type": "code",
   "execution_count": null,
   "metadata": {},
   "outputs": [],
   "source": [
    "zonas=gpd.read_file('zonas.shp',crs={'init':'epsg:4236'})\n",
    "zonas = zonas.to_crs(4236)\n",
    "zonas.head(5)"
   ]
  },
  {
   "cell_type": "code",
   "execution_count": null,
   "metadata": {},
   "outputs": [],
   "source": [
    "zonas.plot()"
   ]
  },
  {
   "cell_type": "markdown",
   "metadata": {},
   "source": [
    "El estándar de codificación con el que leemos nuestro archivo de paradas no entiende acentos del castellano, por lo que debemos quitarlas a mano."
   ]
  },
  {
   "cell_type": "code",
   "execution_count": null,
   "metadata": {},
   "outputs": [],
   "source": [
    "paradas=gpd.read_file('Paradas.shp',crs={'init':'epsg:4236'}, encoding='latin-1')"
   ]
  },
  {
   "cell_type": "code",
   "execution_count": null,
   "metadata": {},
   "outputs": [],
   "source": [
    "paradas.plot()"
   ]
  },
  {
   "cell_type": "code",
   "execution_count": null,
   "metadata": {},
   "outputs": [],
   "source": [
    "paradas.head(5)"
   ]
  },
  {
   "cell_type": "code",
   "execution_count": null,
   "metadata": {},
   "outputs": [],
   "source": [
    "base = zonas.plot(figsize=(15,15), color='white', edgecolor='black')\n",
    "paradas.plot(ax=base, marker='o', color='red', markersize=2);"
   ]
  },
  {
   "cell_type": "markdown",
   "metadata": {},
   "source": [
    "Ahora revisemos el archivo de emisiones. Este archivo no es un Geodataframe, solamente un CSV que podemos convertir a Dataframe. Podrán imaginar la gran cantidad de datos que hay, por lo que la base de datos completa es gigante. Vamos a filtrar entonces la base de datos para trabajar con un solo recorrido."
   ]
  },
  {
   "cell_type": "code",
   "execution_count": null,
   "metadata": {},
   "outputs": [],
   "source": [
    "df=pd.read_csv(\"emisiones.csv\")\n",
    "def filtro(linea,sentido,df):\n",
    "    df_filtrado=df.loc[lambda df: (df.line_code==linea)&(df.direction==sentido)]\n",
    "    return df_filtrado"
   ]
  },
  {
   "cell_type": "code",
   "execution_count": null,
   "metadata": {},
   "outputs": [],
   "source": [
    "linea='C01'\n",
    "sentido='I'\n",
    "\n",
    "df1=filtro(linea,sentido,df)\n",
    "df1.head(5)"
   ]
  },
  {
   "cell_type": "markdown",
   "metadata": {},
   "source": [
    "Podemos observar que este Dataframe tiene dos columnas con la información geográfica que necesitamos para convertirlo en un Geodataframe. Para esto usaremos el método Point de la librería Shapely.\n",
    "\n",
    "El método zip recibe elementos iterables (nuestras columnas lat y lon, en este caso), y los agrupa en una tupla. Esta tupla se la pasamos al método Point, que crea objetos geográficos. Luego limpiamos nuestro Dataframe."
   ]
  },
  {
   "cell_type": "code",
   "execution_count": null,
   "metadata": {},
   "outputs": [],
   "source": [
    "df1 = df1.dropna(subset=['latitude', 'longitude']) #descartamos las filas con datos que no nos sirven\n",
    "puntos=[shapely.Point(xy) for xy in zip(df1.longitude,df1.latitude)] #creamos instancias de la clase Point\n",
    "df1=df1.drop(['longitude','latitude'],axis=1) #limpiamos el Dataframe\n",
    "gdf1=gpd.GeoDataFrame(df1, crs={'init': 'epsg:4236'}, geometry=puntos) #Creamos el Geodataframe"
   ]
  },
  {
   "cell_type": "code",
   "execution_count": null,
   "metadata": {},
   "outputs": [],
   "source": [
    "gdf1 #gdf1 es el geodataframe del recorrido filtrado."
   ]
  },
  {
   "cell_type": "code",
   "execution_count": null,
   "metadata": {},
   "outputs": [],
   "source": [
    "base = zonas.plot(figsize=(15,15), color='white', edgecolor='black')\n",
    "gdf1.plot(ax=base, marker='o', color='red', markersize=2);"
   ]
  },
  {
   "cell_type": "code",
   "execution_count": null,
   "metadata": {},
   "outputs": [],
   "source": [
    "lascondes = zonas.loc[zonas['COMUNA'] == 'LAS CONDES']\n",
    "lascondes = lascondes.to_crs(4236)"
   ]
  },
  {
   "cell_type": "markdown",
   "metadata": {},
   "source": [
    "Uno de los métodos más útiles de Geopandas es sjoin, que hace un \"join\" espacial de dos Geodataframes, y permite realizar operaciones entre ellos. Por ejemplo, vamos a crear un nuevo Geodataframe con todos los puntos del recorrido C01 que están dentro de la comuna de Las Condes."
   ]
  },
  {
   "cell_type": "code",
   "execution_count": null,
   "metadata": {},
   "outputs": [],
   "source": [
    "gdf2=gpd.sjoin(gdf1,lascondes,op='within')"
   ]
  },
  {
   "cell_type": "code",
   "execution_count": null,
   "metadata": {},
   "outputs": [],
   "source": [
    "base = lascondes.plot(figsize=(15,15), color='white', edgecolor='black')\n",
    "gdf2.plot(ax=base, marker='o', color='red', markersize=2);"
   ]
  },
  {
   "cell_type": "markdown",
   "metadata": {},
   "source": [
    "Esta visualización nos recuerda que aunque el trazado se ve homogéneo desde lejos, en verdad solo es una dispersión de puntos GPS. Podríamos crear un objeto línea a partir de estos puntos, y así tener el trazado del recorrido que queremos.\n",
    "\n",
    "Para ello, ordenemos el Geodataframe según la distancia desde el punto del despacho. Esta información está almacenada en la columna \"distance_kms\""
   ]
  },
  {
   "cell_type": "code",
   "execution_count": null,
   "metadata": {},
   "outputs": [],
   "source": [
    "puntos1=list(gdf1.sort_values(by='distance_kms').geometry)"
   ]
  },
  {
   "cell_type": "code",
   "execution_count": null,
   "metadata": {},
   "outputs": [],
   "source": [
    "trazado1=shapely.LineString(puntos1)"
   ]
  },
  {
   "cell_type": "markdown",
   "metadata": {},
   "source": [
    "Tenemos ahora un objeto LineString que podemos añadir como elemento geográfico al Dataframe filtrado del servicio seleccionado, y tener así un Geodataframe."
   ]
  },
  {
   "cell_type": "code",
   "execution_count": null,
   "metadata": {},
   "outputs": [],
   "source": [
    "trazado1"
   ]
  },
  {
   "cell_type": "code",
   "execution_count": null,
   "metadata": {},
   "outputs": [],
   "source": []
  }
 ],
 "metadata": {
  "kernelspec": {
   "display_name": "Python 3",
   "language": "python",
   "name": "python3"
  },
  "language_info": {
   "codemirror_mode": {
    "name": "ipython",
    "version": 3
   },
   "file_extension": ".py",
   "mimetype": "text/x-python",
   "name": "python",
   "nbconvert_exporter": "python",
   "pygments_lexer": "ipython3",
   "version": "3.7.6"
  }
 },
 "nbformat": 4,
 "nbformat_minor": 4
}
