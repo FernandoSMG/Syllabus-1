{
 "cells": [
  {
   "cell_type": "code",
   "execution_count": 7,
   "metadata": {},
   "outputs": [],
   "source": [
    "def backtracking(n, poder_por_grupo, sumas_por_grupo, grupos):\n",
    "    \n",
    "    if len(n) == 0:\n",
    "        return True\n",
    "    \n",
    "    p = n.pop()\n",
    "    for grupo, suma in enumerate(sumas_por_grupo):\n",
    "        \n",
    "        if suma + p <= poder_por_grupo:\n",
    "            sumas_por_grupo[grupo] += p\n",
    "            grupos[grupo].append(p)\n",
    "            \n",
    "            if backtracking(n, poder_por_grupo, sumas_por_grupo, grupos):\n",
    "                return True\n",
    "        \n",
    "            sumas_por_grupo[grupo] -= p\n",
    "            grupos[grupo].pop()\n",
    "            \n",
    "        #Esto es solo para no revisar cosas extra\n",
    "        if suma == 0:\n",
    "            break\n",
    "    \n",
    "    n.append(p)\n",
    "    return False"
   ]
  },
  {
   "cell_type": "code",
   "execution_count": 8,
   "metadata": {},
   "outputs": [],
   "source": [
    "def guerreros(n, k):\n",
    "    \n",
    "    guerreros = len(n)\n",
    "    poder_total = sum(n)\n",
    "    poder_por_grupo = poder_total/k\n",
    "    residuo = poder_total%k\n",
    "    \n",
    "    n.sort()\n",
    "    \n",
    "    if (residuo != 0) or (guerreros < k) or (n[-1] > poder_por_grupo):\n",
    "        return []\n",
    "    \n",
    "    grupos_previos = []\n",
    "    while (len(n)>0) and (n[-1] == poder_por_grupo):\n",
    "        n.pop()\n",
    "        k -= 1\n",
    "        grupos_previos.append([poder_por_grupo])\n",
    "    \n",
    "    grupos = [[] for i in range(k)]\n",
    "    backtracking(n, poder_por_grupo, [0]*k, grupos)\n",
    "    \n",
    "    return grupos_previos + grupos    "
   ]
  },
  {
   "cell_type": "code",
   "execution_count": 9,
   "metadata": {},
   "outputs": [
    {
     "data": {
      "text/plain": [
       "[[8, 6], [8, 4, 2]]"
      ]
     },
     "execution_count": 9,
     "metadata": {},
     "output_type": "execute_result"
    }
   ],
   "source": [
    "n = [2,4,8,8,6]\n",
    "k = 2\n",
    "guerreros(n,k)"
   ]
  }
 ],
 "metadata": {
  "kernelspec": {
   "display_name": "Python 3",
   "language": "python",
   "name": "python3"
  },
  "language_info": {
   "codemirror_mode": {
    "name": "ipython",
    "version": 3
   },
   "file_extension": ".py",
   "mimetype": "text/x-python",
   "name": "python",
   "nbconvert_exporter": "python",
   "pygments_lexer": "ipython3",
   "version": "3.7.3"
  }
 },
 "nbformat": 4,
 "nbformat_minor": 4
}
